{
 "cells": [
  {
   "cell_type": "code",
   "execution_count": 1,
   "metadata": {},
   "outputs": [],
   "source": [
    "%load_ext autoreload\n",
    "%autoreload 2"
   ]
  },
  {
   "cell_type": "code",
   "execution_count": 2,
   "metadata": {},
   "outputs": [
    {
     "name": "stderr",
     "output_type": "stream",
     "text": [
      "Loading faiss with AVX2 support.\n"
     ]
    }
   ],
   "source": [
    "import pickle\n",
    "from dime.engine import SearchEngine\n",
    "import torch\n",
    "import torchvision\n",
    "from train_model import IntermodalTripletNet"
   ]
  },
  {
   "cell_type": "code",
   "execution_count": 3,
   "metadata": {},
   "outputs": [],
   "source": [
    "BATCH_SIZE = 32"
   ]
  },
  {
   "cell_type": "code",
   "execution_count": 5,
   "metadata": {},
   "outputs": [],
   "source": [
    "engine_params = {\n",
    "    \"name\": \"demo_engine\",\n",
    "    \"cuda\": True,\n",
    "    \"verbose\": True,\n",
    "    \"dataset_dir\": \"data/\",\n",
    "    \"index_dir\": \"indexes/\",\n",
    "    \"model_dir\": \"models/\",\n",
    "    \"embedding_dir\": \"embeddings/\",\n",
    "    \"modalities\": [\"text\", \"image\", \"audio\", \"video\"]   \n",
    "}\n",
    "\n",
    "engine = SearchEngine(engine_params)"
   ]
  },
  {
   "cell_type": "code",
   "execution_count": 6,
   "metadata": {},
   "outputs": [
    {
     "name": "stdout",
     "output_type": "stream",
     "text": [
      "Model 'resnet152' added\n"
     ]
    }
   ],
   "source": [
    "r152_features_params = {\n",
    "    \"name\": \"resnet152\",\n",
    "    \"output_dim\": (2048,),\n",
    "    \"modalities\": [\"image\"],\n",
    "    \"embedding_nets\": [torch.nn.Sequential(*list(torchvision.models.resnet152(pretrained=True).children())[:-1])],\n",
    "    \"input_dim\": [(3, 224, 224)],\n",
    "    \"desc\": \"Resnet152 with the last layer removed for feature extraction\"\n",
    "} \n",
    "\n",
    "engine.add_model(r152_features_params)"
   ]
  },
  {
   "cell_type": "code",
   "execution_count": 7,
   "metadata": {},
   "outputs": [
    {
     "name": "stdout",
     "output_type": "stream",
     "text": [
      "Model 'resnet18' added\n"
     ]
    }
   ],
   "source": [
    "r18_features_params = {\n",
    "    \"name\": \"resnet18\",\n",
    "    \"output_dim\": (512,),\n",
    "    \"modalities\": [\"image\"],\n",
    "    \"embedding_nets\": [torch.nn.Sequential(*list(torchvision.models.resnet18(pretrained=True).children())[:-1])],\n",
    "    \"input_dim\": [(3, 224, 224)],\n",
    "    \"desc\": \"Resnet18 with the last layer removed for feature extraction\"\n",
    "} \n",
    "\n",
    "engine.add_model(r18_features_params)"
   ]
  },
  {
   "cell_type": "code",
   "execution_count": 8,
   "metadata": {},
   "outputs": [
    {
     "name": "stdout",
     "output_type": "stream",
     "text": [
      "Model 'cm-r152-5epochs' added\n"
     ]
    }
   ],
   "source": [
    "with open(\"pickles/models/resnet152_5epochs.p\", \"rb\") as f:\n",
    "    model = pickle.load(f)\n",
    "\n",
    "demo_model1_params = {\n",
    "    \"name\": \"cm-r152-5epochs\",\n",
    "    \"output_dim\": (200,),\n",
    "    \"modalities\": [\"image\", \"text\"],\n",
    "    \"embedding_nets\": [model.modalityOneNet, model.modalityTwoNet],\n",
    "    \"input_dim\": [(2048,), (300,)],\n",
    "    \"desc\": \"5 epoch adversarial cross-modal triplet-loss retrieval trained with resnet152 features and wiki word2vec\"\n",
    "}\n",
    "\n",
    "engine.add_model(demo_model1_params)"
   ]
  },
  {
   "cell_type": "code",
   "execution_count": 9,
   "metadata": {},
   "outputs": [
    {
     "name": "stdout",
     "output_type": "stream",
     "text": [
      "Model 'cm-r152-15epochs' added\n"
     ]
    }
   ],
   "source": [
    "with open(\"pickles/models/resnet152_15epochs.p\", \"rb\") as f:\n",
    "    model = pickle.load(f)\n",
    "\n",
    "demo_model1_params = {\n",
    "    \"name\": \"cm-r152-15epochs\",\n",
    "    \"output_dim\": (200,),\n",
    "    \"modalities\": [\"image\", \"text\"],\n",
    "    \"embedding_nets\": [model.modalityOneNet, model.modalityTwoNet],\n",
    "    \"input_dim\": [(2048,), (300,)],\n",
    "    \"desc\": \"15 epoch adversarial cross-modal triplet-loss retrieval trained with resnet152 features and wiki word2vec\"\n",
    "}\n",
    "\n",
    "engine.add_model(demo_model1_params)"
   ]
  },
  {
   "cell_type": "code",
   "execution_count": 10,
   "metadata": {},
   "outputs": [
    {
     "name": "stdout",
     "output_type": "stream",
     "text": [
      "Model 'cm-r18-15epochs' added\n"
     ]
    }
   ],
   "source": [
    "with open(\"pickles/models/resnet18_15epochs.p\", \"rb\") as f:\n",
    "    model = pickle.load(f)\n",
    "\n",
    "demo_model1_params = {\n",
    "    \"name\": \"cm-r18-15epochs\",\n",
    "    \"output_dim\": (200,),\n",
    "    \"modalities\": [\"image\", \"text\"],\n",
    "    \"embedding_nets\": [model.modalityOneNet, model.modalityTwoNet],\n",
    "    \"input_dim\": [(512,), (300,)],\n",
    "    \"desc\": \"15 epoch adversarial cross-modal triplet-loss retrieval trained with resnet18 features and wiki word2vec\"\n",
    "}\n",
    "\n",
    "engine.add_model(demo_model1_params)"
   ]
  },
  {
   "cell_type": "code",
   "execution_count": 11,
   "metadata": {},
   "outputs": [],
   "source": [
    "engine.add_preprocessor(\"cm-r152-5epochs\", \"image\", \"resnet152\")\n",
    "engine.add_preprocessor(\"cm-r152-15epochs\", \"image\", \"resnet152\")\n",
    "engine.add_preprocessor(\"cm-r18-15epochs\", \"image\", \"resnet18\")"
   ]
  },
  {
   "cell_type": "code",
   "execution_count": 12,
   "metadata": {},
   "outputs": [
    {
     "name": "stdout",
     "output_type": "stream",
     "text": [
      "Dataset 'nuswide' added\n"
     ]
    }
   ],
   "source": [
    "nuswide_params = {\n",
    "    \"name\": \"nuswide\",\n",
    "    \"data_dir\": \"Flickr/\",\n",
    "    \"transform\": torchvision.transforms.Compose([\n",
    "        torchvision.transforms.Resize((224,224)),\n",
    "        torchvision.transforms.ToTensor(),\n",
    "        torchvision.transforms.Normalize((0.485, 0.456, 0.406), (0.229, 0.224, 0.225))]),\n",
    "    \"dim\": (3, 224, 224),\n",
    "    \"modality\": \"image\",\n",
    "    \"desc\": \"The nuswide dataset\"\n",
    "}\n",
    "\n",
    "engine.add_dataset(nuswide_params, force_add = True)"
   ]
  },
  {
   "cell_type": "code",
   "execution_count": 13,
   "metadata": {},
   "outputs": [
    {
     "name": "stdout",
     "output_type": "stream",
     "text": [
      "Dataset 'wiki_word2vec' added\n"
     ]
    }
   ],
   "source": [
    "with open(\"pickles/word_embeddings/word_embeddings_tensors.p\", \"rb\") as f:\n",
    "    wiki = pickle.load(f)\n",
    "    \n",
    "wiki_word2vec_params = {\n",
    "    \"name\": \"wiki_word2vec\",\n",
    "    \"data\": wiki,\n",
    "    \"modality\": \"text\",\n",
    "    \"dim\": (300,),\n",
    "    \"desc\": \"one million word2vec entries trained on English Wikipedia\"\n",
    "}\n",
    "\n",
    "engine.add_dataset(wiki_word2vec_params)"
   ]
  },
  {
   "cell_type": "code",
   "execution_count": 14,
   "metadata": {},
   "outputs": [],
   "source": [
    "ind1= {\n",
    "    \"name\": \"NUSWIDE (cm-r152-5epochs)\",\n",
    "    \"model_name\": \"cm-r152-5epochs\",\n",
    "    \"dataset_name\": \"nuswide\",\n",
    "    \"desc\": \"The index corresponding to cm-r152-5epochs model and nuswide\"\n",
    "}\n",
    "\n",
    "ind2 = {\n",
    "    \"name\": \"WIKI WORD2VEC (cm-r152-5epochs)\",\n",
    "    \"model_name\": \"cm-r152-5epochs\",\n",
    "    \"dataset_name\": \"wiki_word2vec\",\n",
    "    \"desc\": \"The index corresponding to cm-r152-5epochs model and wiki_word2vec\"\n",
    "}\n",
    "\n",
    "ind3 = {\n",
    "    \"name\": \"NUSWIDE (cm-r152-15epochs)\",\n",
    "    \"model_name\": \"cm-r152-15epochs\",\n",
    "    \"dataset_name\": \"nuswide\",\n",
    "    \"desc\": \"The index corresponding to cm-r152-15epochs model and nuswide\"\n",
    "}\n",
    "ind4 = {\n",
    "    \"name\": \"WIKI WORD2VEC (cm-r152-15epochs)\",\n",
    "    \"model_name\": \"cm-r152-15epochs\",\n",
    "    \"dataset_name\": \"wiki_word2vec\",\n",
    "    \"desc\": \"The index corresponding to cm-r152-15epochs model and wiki_word2vec\"\n",
    "}\n",
    "ind5 = {\n",
    "    \"name\": \"NUSWIDE (cm-r18-15epochs)\",\n",
    "    \"model_name\": \"cm-r18-15epochs\",\n",
    "    \"dataset_name\": \"nuswide\",\n",
    "    \"desc\": \"The index corresponding to cm-r18-15epochs model and nuswide\"\n",
    "}\n",
    "ind6 = {\n",
    "    \"name\": \"WIKI WORD2VEC (cm-r18-15epochs)\",\n",
    "    \"model_name\": \"cm-r18-15epochs\",\n",
    "    \"dataset_name\": \"wiki_word2vec\",\n",
    "    \"desc\": \"The index corresponding to cm-r18-15epochs model and wiki_word2vec\"\n",
    "}\n",
    "\n",
    "ind7 = {\n",
    "    \"name\": \"NUSWIDE (resnet152)\",\n",
    "    \"model_name\": \"resnet152\",\n",
    "    \"dataset_name\": \"nuswide\",\n",
    "    \"desc\": \"The index corresponding to resnet152 and nuswide\"\n",
    "}\n",
    "\n",
    "ind8 = {\n",
    "    \"name\": \"NUSWIDE (resnet18)\",\n",
    "    \"model_name\": \"resnet18\",\n",
    "    \"dataset_name\": \"nuswide\",\n",
    "    \"desc\": \"The index corresponding to resnet18 and nuswide\"\n",
    "}"
   ]
  },
  {
   "cell_type": "code",
   "execution_count": 15,
   "metadata": {},
   "outputs": [
    {
     "name": "stdout",
     "output_type": "stream",
     "text": [
      "Building cm-r152-5epochs, nuswide index\n",
      "Loading batch 0 of 8427\n",
      "Processing batch 1000 of 8427\n",
      "Processing batch 2000 of 8427\n",
      "Processing batch 3000 of 8427\n",
      "Processing batch 4000 of 8427\n",
      "Processing batch 5000 of 8427\n",
      "Processing batch 6000 of 8427\n",
      "Processing batch 7000 of 8427\n",
      "Processing batch 8000 of 8427\n",
      "Finished building index NUSWIDE (cm-r152-5epochs) in 1528.1353 seconds.\n",
      "Building cm-r152-5epochs, wiki_word2vec index\n",
      "Processing batch 0 of 31250\n",
      "Processing batch 1000 of 31250\n",
      "Processing batch 2000 of 31250\n",
      "Processing batch 3000 of 31250\n",
      "Processing batch 4000 of 31250\n",
      "Processing batch 5000 of 31250\n",
      "Processing batch 6000 of 31250\n",
      "Processing batch 7000 of 31250\n",
      "Processing batch 8000 of 31250\n",
      "Processing batch 9000 of 31250\n",
      "Processing batch 10000 of 31250\n",
      "Processing batch 11000 of 31250\n",
      "Processing batch 12000 of 31250\n",
      "Processing batch 13000 of 31250\n",
      "Processing batch 14000 of 31250\n",
      "Processing batch 15000 of 31250\n",
      "Processing batch 16000 of 31250\n",
      "Processing batch 17000 of 31250\n",
      "Processing batch 18000 of 31250\n",
      "Processing batch 19000 of 31250\n",
      "Processing batch 20000 of 31250\n",
      "Processing batch 21000 of 31250\n",
      "Processing batch 22000 of 31250\n",
      "Processing batch 23000 of 31250\n",
      "Processing batch 24000 of 31250\n",
      "Processing batch 25000 of 31250\n",
      "Processing batch 26000 of 31250\n",
      "Processing batch 27000 of 31250\n",
      "Processing batch 28000 of 31250\n",
      "Processing batch 29000 of 31250\n",
      "Processing batch 30000 of 31250\n",
      "Processing batch 31000 of 31250\n",
      "Finished building index WIKI WORD2VEC (cm-r152-5epochs) in 20.2355 seconds.\n",
      "Building cm-r152-15epochs, nuswide index\n",
      "Processing batch 0 of 8427\n",
      "Processing batch 1000 of 8427\n",
      "Processing batch 2000 of 8427\n",
      "Processing batch 3000 of 8427\n",
      "Processing batch 4000 of 8427\n",
      "Processing batch 5000 of 8427\n",
      "Processing batch 6000 of 8427\n",
      "Processing batch 7000 of 8427\n",
      "Processing batch 8000 of 8427\n",
      "Finished building index NUSWIDE (cm-r152-15epochs) in 1533.9701 seconds.\n",
      "Building cm-r152-15epochs, wiki_word2vec index\n",
      "Processing batch 0 of 31250\n",
      "Processing batch 1000 of 31250\n",
      "Processing batch 2000 of 31250\n",
      "Processing batch 3000 of 31250\n",
      "Processing batch 4000 of 31250\n",
      "Processing batch 5000 of 31250\n",
      "Processing batch 6000 of 31250\n",
      "Processing batch 7000 of 31250\n",
      "Processing batch 8000 of 31250\n",
      "Processing batch 9000 of 31250\n",
      "Processing batch 10000 of 31250\n",
      "Processing batch 11000 of 31250\n",
      "Processing batch 12000 of 31250\n",
      "Processing batch 13000 of 31250\n",
      "Processing batch 14000 of 31250\n",
      "Processing batch 15000 of 31250\n",
      "Processing batch 16000 of 31250\n",
      "Processing batch 17000 of 31250\n",
      "Processing batch 18000 of 31250\n",
      "Processing batch 19000 of 31250\n",
      "Processing batch 20000 of 31250\n",
      "Processing batch 21000 of 31250\n",
      "Processing batch 22000 of 31250\n",
      "Processing batch 23000 of 31250\n",
      "Processing batch 24000 of 31250\n",
      "Processing batch 25000 of 31250\n",
      "Processing batch 26000 of 31250\n",
      "Processing batch 27000 of 31250\n",
      "Processing batch 28000 of 31250\n",
      "Processing batch 29000 of 31250\n",
      "Processing batch 30000 of 31250\n",
      "Processing batch 31000 of 31250\n",
      "Finished building index WIKI WORD2VEC (cm-r152-15epochs) in 20.2205 seconds.\n",
      "Building cm-r18-15epochs, nuswide index\n",
      "Processing batch 0 of 8427\n",
      "Processing batch 1000 of 8427\n",
      "Processing batch 2000 of 8427\n",
      "Processing batch 3000 of 8427\n",
      "Processing batch 4000 of 8427\n",
      "Processing batch 5000 of 8427\n",
      "Processing batch 6000 of 8427\n",
      "Processing batch 7000 of 8427\n",
      "Processing batch 8000 of 8427\n",
      "Finished building index NUSWIDE (cm-r18-15epochs) in 692.2221 seconds.\n",
      "Building cm-r18-15epochs, wiki_word2vec index\n",
      "Processing batch 0 of 31250\n",
      "Processing batch 1000 of 31250\n",
      "Processing batch 2000 of 31250\n",
      "Processing batch 3000 of 31250\n",
      "Processing batch 4000 of 31250\n",
      "Processing batch 5000 of 31250\n",
      "Processing batch 6000 of 31250\n",
      "Processing batch 7000 of 31250\n",
      "Processing batch 8000 of 31250\n",
      "Processing batch 9000 of 31250\n",
      "Processing batch 10000 of 31250\n",
      "Processing batch 11000 of 31250\n",
      "Processing batch 12000 of 31250\n",
      "Processing batch 13000 of 31250\n",
      "Processing batch 14000 of 31250\n",
      "Processing batch 15000 of 31250\n",
      "Processing batch 16000 of 31250\n",
      "Processing batch 17000 of 31250\n",
      "Processing batch 18000 of 31250\n",
      "Processing batch 19000 of 31250\n",
      "Processing batch 20000 of 31250\n",
      "Processing batch 21000 of 31250\n",
      "Processing batch 22000 of 31250\n",
      "Processing batch 23000 of 31250\n",
      "Processing batch 24000 of 31250\n",
      "Processing batch 25000 of 31250\n",
      "Processing batch 26000 of 31250\n",
      "Processing batch 27000 of 31250\n",
      "Processing batch 28000 of 31250\n",
      "Processing batch 29000 of 31250\n",
      "Processing batch 30000 of 31250\n",
      "Processing batch 31000 of 31250\n",
      "Finished building index WIKI WORD2VEC (cm-r18-15epochs) in 19.9383 seconds.\n",
      "Building resnet152, nuswide index\n",
      "Processing batch 0 of 8427\n",
      "Processing batch 1000 of 8427\n",
      "Processing batch 2000 of 8427\n",
      "Processing batch 3000 of 8427\n",
      "Processing batch 4000 of 8427\n",
      "Processing batch 5000 of 8427\n",
      "Processing batch 6000 of 8427\n",
      "Processing batch 7000 of 8427\n",
      "Processing batch 8000 of 8427\n",
      "Finished building index NUSWIDE (resnet152) in 1542.8857 seconds.\n",
      "Building resnet18, nuswide index\n",
      "Processing batch 0 of 8427\n",
      "Processing batch 1000 of 8427\n",
      "Processing batch 2000 of 8427\n",
      "Processing batch 3000 of 8427\n",
      "Processing batch 4000 of 8427\n",
      "Processing batch 5000 of 8427\n",
      "Processing batch 6000 of 8427\n",
      "Processing batch 7000 of 8427\n",
      "Processing batch 8000 of 8427\n",
      "Finished building index NUSWIDE (resnet18) in 692.6513 seconds.\n"
     ]
    },
    {
     "data": {
      "text/plain": [
       "'NUSWIDE (resnet18)'"
      ]
     },
     "execution_count": 15,
     "metadata": {},
     "output_type": "execute_result"
    }
   ],
   "source": [
    "engine.build_index(ind1, batch_size = BATCH_SIZE)\n",
    "engine.build_index(ind2, batch_size = BATCH_SIZE)\n",
    "engine.build_index(ind3, batch_size = BATCH_SIZE)\n",
    "engine.build_index(ind4, batch_size = BATCH_SIZE)\n",
    "engine.build_index(ind5, batch_size = BATCH_SIZE)\n",
    "engine.build_index(ind6, batch_size = BATCH_SIZE)\n",
    "engine.build_index(ind7, batch_size = BATCH_SIZE)\n",
    "engine.build_index(ind8, batch_size = BATCH_SIZE)"
   ]
  },
  {
   "cell_type": "code",
   "execution_count": 16,
   "metadata": {},
   "outputs": [],
   "source": [
    "engine.save(save_data=True)"
   ]
  },
  {
   "cell_type": "code",
   "execution_count": null,
   "metadata": {},
   "outputs": [],
   "source": []
  }
 ],
 "metadata": {
  "kernelspec": {
   "display_name": "Python 3",
   "language": "python",
   "name": "python3"
  },
  "language_info": {
   "codemirror_mode": {
    "name": "ipython",
    "version": 3
   },
   "file_extension": ".py",
   "mimetype": "text/x-python",
   "name": "python",
   "nbconvert_exporter": "python",
   "pygments_lexer": "ipython3",
   "version": "3.7.4"
  }
 },
 "nbformat": 4,
 "nbformat_minor": 2
}
