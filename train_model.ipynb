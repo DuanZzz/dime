{
 "cells": [
  {
   "cell_type": "markdown",
   "metadata": {},
   "source": [
    "# Train Model"
   ]
  },
  {
   "cell_type": "code",
   "execution_count": 1,
   "metadata": {},
   "outputs": [],
   "source": [
    "%load_ext autoreload\n",
    "%autoreload 2"
   ]
  },
  {
   "cell_type": "code",
   "execution_count": 2,
   "metadata": {},
   "outputs": [],
   "source": [
    "from torchvision import transforms\n",
    "import torch.optim as optim\n",
    "import numpy as np\n",
    "import csv\n",
    "import pickle\n",
    "import torch\n",
    "\n",
    "from trainer import fit\n",
    "from datasets import NUS_WIDE\n",
    "\n",
    "from networks import TextEmbeddingNet, Resnet152EmbeddingNet, IntermodalTripletNet, Resnet18EmbeddingNet\n",
    "from losses import InterTripletLoss\n"
   ]
  },
  {
   "cell_type": "code",
   "execution_count": 3,
   "metadata": {},
   "outputs": [],
   "source": [
    "### PARAMETERS ###\n",
    "batch_size = 128\n",
    "margin = 5\n",
    "lr = 1e-3\n",
    "n_epochs = 5\n",
    "output_embedding_size = 64\n",
    "feature_mode = 'resnet18'\n",
    "random_seed = 21\n",
    "image_data_path = 'data/Flickr'\n",
    "##################"
   ]
  },
  {
   "cell_type": "code",
   "execution_count": 4,
   "metadata": {},
   "outputs": [],
   "source": [
    "# setting up dictionary\n",
    "text_dictionary = pickle.load(open(\"pickles/word_embeddings/word_embeddings_tensors.p\", \"rb\"))"
   ]
  },
  {
   "cell_type": "code",
   "execution_count": 5,
   "metadata": {},
   "outputs": [],
   "source": [
    "mean, std = (0.485, 0.456, 0.406), (0.229, 0.224, 0.225)\n",
    "image_transform = transforms.Compose([\n",
    "    transforms.Resize((224,224)),\n",
    "    transforms.ToTensor(),\n",
    "    transforms.Normalize(mean,std)])\n",
    "dataset = NUS_WIDE(\n",
    "    root=image_data_path,\n",
    "    transform=image_transform,\n",
    "    feature_mode=feature_mode,\n",
    "    word_embeddings=text_dictionary,\n",
    "    train=True)"
   ]
  },
  {
   "cell_type": "code",
   "execution_count": 6,
   "metadata": {},
   "outputs": [],
   "source": [
    "# creating indices for training data and validation data\n",
    "from torch.utils.data.sampler import SubsetRandomSampler\n",
    "\n",
    "dataset_size = len(dataset)\n",
    "validation_split = 0.2\n",
    "\n",
    "indices = list(range(dataset_size))\n",
    "split = int(np.floor(validation_split * dataset_size))\n",
    "np.random.seed(random_seed)\n",
    "np.random.shuffle(indices)\n",
    "train_indices, val_indices = indices[split:], indices[:split]\n",
    "\n",
    "train_sampler = SubsetRandomSampler(train_indices)\n",
    "validation_sampler = SubsetRandomSampler(val_indices)"
   ]
  },
  {
   "cell_type": "code",
   "execution_count": 7,
   "metadata": {},
   "outputs": [],
   "source": [
    "# making loaders\n",
    "cuda = torch.cuda.is_available()\n",
    "kwargs = {'num_workers': 32, 'pin_memory': True} if cuda else {}\n",
    "\n",
    "i_triplet_train_loader = torch.utils.data.DataLoader(\n",
    "    dataset,\n",
    "    batch_size=batch_size, \n",
    "    sampler=train_sampler, \n",
    "    **kwargs)\n",
    "\n",
    "i_triplet_val_loader = torch.utils.data.DataLoader(\n",
    "    dataset, \n",
    "    batch_size=batch_size, \n",
    "    sampler=validation_sampler, \n",
    "    **kwargs)"
   ]
  },
  {
   "cell_type": "code",
   "execution_count": 8,
   "metadata": {},
   "outputs": [],
   "source": [
    "# Set up the network and training parameters\n",
    "text_embedding_net = TextEmbeddingNet(dim=output_embedding_size)\n",
    "if feature_mode == 'resnet152':\n",
    "    image_embedding_net = Resnet152EmbeddingNet(dim=output_embedding_size)\n",
    "elif feature_mode == 'resnet18':\n",
    "    image_embedding_net = Resnet18EmbeddingNet(dim=output_embedding_size)"
   ]
  },
  {
   "cell_type": "code",
   "execution_count": 9,
   "metadata": {},
   "outputs": [],
   "source": [
    "model = IntermodalTripletNet(image_embedding_net, text_embedding_net)\n",
    "\n",
    "if cuda:\n",
    "    model.cuda()"
   ]
  },
  {
   "cell_type": "code",
   "execution_count": 10,
   "metadata": {},
   "outputs": [],
   "source": [
    "loss_fn = InterTripletLoss(margin)\n",
    "optimizer = optim.Adam(model.parameters(), lr=lr)\n",
    "scheduler = optim.lr_scheduler.StepLR(optimizer, 8, gamma=0.1, last_epoch=-1)\n",
    "log_interval = 100"
   ]
  },
  {
   "cell_type": "code",
   "execution_count": 11,
   "metadata": {},
   "outputs": [
    {
     "name": "stdout",
     "output_type": "stream",
     "text": [
      "Train: [0/161789 (0%)]\tLoss: 9.984097\n",
      "Train: [12800/161789 (10%)]\tLoss: 9.271622\n",
      "Train: [25600/161789 (20%)]\tLoss: 8.046668\n",
      "Train: [38400/161789 (30%)]\tLoss: 7.562710\n",
      "Train: [51200/161789 (40%)]\tLoss: 7.407183\n",
      "Train: [64000/161789 (49%)]\tLoss: 7.270977\n",
      "Train: [76800/161789 (59%)]\tLoss: 7.189457\n",
      "Train: [89600/161789 (69%)]\tLoss: 6.994507\n",
      "Train: [102400/161789 (79%)]\tLoss: 6.817177\n",
      "Train: [115200/161789 (89%)]\tLoss: 6.550000\n",
      "Train: [128000/161789 (99%)]\tLoss: 6.446790\n",
      "Epoch: 1/5. Train set: Average loss: 7.3463\n",
      "Epoch: 1/5. Validation set: Average loss: 6.5442\n",
      "Train: [0/161789 (0%)]\tLoss: 6.174269\n",
      "Train: [12800/161789 (10%)]\tLoss: 6.472223\n",
      "Train: [25600/161789 (20%)]\tLoss: 6.120087\n",
      "Train: [38400/161789 (30%)]\tLoss: 6.161866\n",
      "Train: [51200/161789 (40%)]\tLoss: 6.116235\n",
      "Train: [64000/161789 (49%)]\tLoss: 5.991975\n",
      "Train: [76800/161789 (59%)]\tLoss: 5.917478\n",
      "Train: [89600/161789 (69%)]\tLoss: 5.793863\n",
      "Train: [102400/161789 (79%)]\tLoss: 5.899792\n",
      "Train: [115200/161789 (89%)]\tLoss: 5.783838\n",
      "Train: [128000/161789 (99%)]\tLoss: 5.710894\n",
      "Epoch: 2/5. Train set: Average loss: 5.9937\n",
      "Epoch: 2/5. Validation set: Average loss: 5.7254\n",
      "Train: [0/161789 (0%)]\tLoss: 5.374981\n",
      "Train: [12800/161789 (10%)]\tLoss: 5.636045\n",
      "Train: [25600/161789 (20%)]\tLoss: 5.585044\n",
      "Train: [38400/161789 (30%)]\tLoss: 5.658809\n",
      "Train: [51200/161789 (40%)]\tLoss: 5.601722\n",
      "Train: [64000/161789 (49%)]\tLoss: 5.688055\n",
      "Train: [76800/161789 (59%)]\tLoss: 5.534098\n",
      "Train: [89600/161789 (69%)]\tLoss: 5.596943\n",
      "Train: [102400/161789 (79%)]\tLoss: 5.624537\n",
      "Train: [115200/161789 (89%)]\tLoss: 5.646981\n",
      "Train: [128000/161789 (99%)]\tLoss: 5.541895\n",
      "Epoch: 3/5. Train set: Average loss: 5.6108\n",
      "Epoch: 3/5. Validation set: Average loss: 5.5247\n",
      "Train: [0/161789 (0%)]\tLoss: 6.291807\n",
      "Train: [12800/161789 (10%)]\tLoss: 5.594916\n",
      "Train: [25600/161789 (20%)]\tLoss: 5.477129\n",
      "Train: [38400/161789 (30%)]\tLoss: 5.512398\n",
      "Train: [51200/161789 (40%)]\tLoss: 5.457315\n",
      "Train: [64000/161789 (49%)]\tLoss: 5.586203\n",
      "Train: [76800/161789 (59%)]\tLoss: 5.616895\n",
      "Train: [89600/161789 (69%)]\tLoss: 5.512477\n",
      "Train: [102400/161789 (79%)]\tLoss: 5.498941\n",
      "Train: [115200/161789 (89%)]\tLoss: 5.453127\n",
      "Train: [128000/161789 (99%)]\tLoss: 5.459578\n",
      "Epoch: 4/5. Train set: Average loss: 5.5171\n",
      "Epoch: 4/5. Validation set: Average loss: 5.4994\n",
      "Train: [0/161789 (0%)]\tLoss: 5.528654\n",
      "Train: [12800/161789 (10%)]\tLoss: 5.499571\n",
      "Train: [25600/161789 (20%)]\tLoss: 5.488384\n",
      "Train: [38400/161789 (30%)]\tLoss: 5.337404\n",
      "Train: [51200/161789 (40%)]\tLoss: 5.479358\n",
      "Train: [64000/161789 (49%)]\tLoss: 5.538747\n",
      "Train: [76800/161789 (59%)]\tLoss: 5.432305\n",
      "Train: [89600/161789 (69%)]\tLoss: 5.359089\n",
      "Train: [102400/161789 (79%)]\tLoss: 5.391609\n",
      "Train: [115200/161789 (89%)]\tLoss: 5.263705\n",
      "Train: [128000/161789 (99%)]\tLoss: 5.405717\n",
      "Epoch: 5/5. Train set: Average loss: 5.4212\n",
      "Epoch: 5/5. Validation set: Average loss: 5.4041\n"
     ]
    }
   ],
   "source": [
    "fit(i_triplet_train_loader, \n",
    "    i_triplet_val_loader, \n",
    "    dataset.intermodal_triplet_batch_sampler, \n",
    "    model, \n",
    "    loss_fn, \n",
    "    optimizer, \n",
    "    scheduler, \n",
    "    n_epochs, \n",
    "    cuda, \n",
    "    log_interval)"
   ]
  },
  {
   "cell_type": "code",
   "execution_count": 12,
   "metadata": {},
   "outputs": [
    {
     "name": "stdout",
     "output_type": "stream",
     "text": [
      "Done!\n"
     ]
    }
   ],
   "source": [
    "print(\"Done!\")"
   ]
  },
  {
   "cell_type": "code",
   "execution_count": 13,
   "metadata": {},
   "outputs": [],
   "source": [
    "pickle.dump(model, open('pickles/models/entire_nuswide_model_5-18.p', 'wb'))"
   ]
  },
  {
   "cell_type": "code",
   "execution_count": null,
   "metadata": {},
   "outputs": [],
   "source": []
  }
 ],
 "metadata": {
  "kernelspec": {
   "display_name": "Python [conda env:pytorch_p36]",
   "language": "python",
   "name": "conda-env-pytorch_p36-py"
  },
  "language_info": {
   "codemirror_mode": {
    "name": "ipython",
    "version": 3
   },
   "file_extension": ".py",
   "mimetype": "text/x-python",
   "name": "python",
   "nbconvert_exporter": "python",
   "pygments_lexer": "ipython3",
   "version": "3.6.6"
  }
 },
 "nbformat": 4,
 "nbformat_minor": 2
}
