{
 "cells": [
  {
   "cell_type": "markdown",
   "metadata": {},
   "source": [
    "# Train Model"
   ]
  },
  {
   "cell_type": "code",
   "execution_count": 1,
   "metadata": {},
   "outputs": [],
   "source": [
    "%load_ext autoreload\n",
    "%autoreload 2"
   ]
  },
  {
   "cell_type": "code",
   "execution_count": 2,
   "metadata": {},
   "outputs": [],
   "source": [
    "from torchvision import transforms\n",
    "import torch.optim as optim\n",
    "import numpy as np\n",
    "import csv\n",
    "import pickle\n",
    "import torch\n",
    "\n",
    "from trainer import fit\n",
    "from datasets import NUS_WIDE\n",
    "\n",
    "from networks import TextEmbeddingNet, Resnet152EmbeddingNet, IntermodalTripletNet, Resnet18EmbeddingNet\n",
    "from losses import InterTripletLoss\n"
   ]
  },
  {
   "cell_type": "code",
   "execution_count": 3,
   "metadata": {},
   "outputs": [],
   "source": [
    "### PARAMETERS ###\n",
    "batch_size = 128\n",
    "margin = 5\n",
    "lr = 1e-3\n",
    "n_epochs = 15\n",
    "output_embedding_size = 64\n",
    "feature_mode = 'resnet152'\n",
    "random_seed = 21\n",
    "image_data_path = 'data/Flickr'\n",
    "##################"
   ]
  },
  {
   "cell_type": "code",
   "execution_count": 4,
   "metadata": {},
   "outputs": [],
   "source": [
    "# setting up dictionary\n",
    "text_dictionary = pickle.load(open(\"pickles/word_embeddings/word_embeddings_tensors.p\", \"rb\"))"
   ]
  },
  {
   "cell_type": "code",
   "execution_count": 5,
   "metadata": {},
   "outputs": [],
   "source": [
    "mean, std = (0.485, 0.456, 0.406), (0.229, 0.224, 0.225)\n",
    "image_transform = transforms.Compose([\n",
    "    transforms.Resize((224,224)),\n",
    "    transforms.ToTensor(),\n",
    "    transforms.Normalize(mean,std)])\n",
    "dataset = NUS_WIDE(\n",
    "    root=image_data_path,\n",
    "    transform=image_transform,\n",
    "    feature_mode=feature_mode,\n",
    "    word_embeddings=text_dictionary,\n",
    "    train=True)"
   ]
  },
  {
   "cell_type": "code",
   "execution_count": 6,
   "metadata": {},
   "outputs": [],
   "source": [
    "# creating indices for training data and validation data\n",
    "from torch.utils.data.sampler import SubsetRandomSampler\n",
    "\n",
    "dataset_size = len(dataset)\n",
    "validation_split = 0.2\n",
    "\n",
    "indices = list(range(dataset_size))\n",
    "split = int(np.floor(validation_split * dataset_size))\n",
    "np.random.seed(random_seed)\n",
    "np.random.shuffle(indices)\n",
    "train_indices, val_indices = indices[split:], indices[:split]\n",
    "\n",
    "train_sampler = SubsetRandomSampler(train_indices)\n",
    "validation_sampler = SubsetRandomSampler(val_indices)"
   ]
  },
  {
   "cell_type": "code",
   "execution_count": 7,
   "metadata": {},
   "outputs": [],
   "source": [
    "# making loaders\n",
    "cuda = torch.cuda.is_available()\n",
    "kwargs = {'num_workers': 32, 'pin_memory': True} if cuda else {}\n",
    "\n",
    "i_triplet_train_loader = torch.utils.data.DataLoader(\n",
    "    dataset,\n",
    "    batch_size=batch_size, \n",
    "    sampler=train_sampler, \n",
    "    **kwargs)\n",
    "\n",
    "i_triplet_val_loader = torch.utils.data.DataLoader(\n",
    "    dataset, \n",
    "    batch_size=batch_size, \n",
    "    sampler=validation_sampler, \n",
    "    **kwargs)"
   ]
  },
  {
   "cell_type": "code",
   "execution_count": 8,
   "metadata": {},
   "outputs": [],
   "source": [
    "# Set up the network and training parameters\n",
    "text_embedding_net = TextEmbeddingNet(dim=output_embedding_size)\n",
    "if feature_mode == 'resnet152':\n",
    "    image_embedding_net = Resnet152EmbeddingNet(dim=output_embedding_size)\n",
    "elif feature_mode == 'resnet18':\n",
    "    image_embedding_net = Resnet18EmbeddingNet(dim=output_embedding_size)"
   ]
  },
  {
   "cell_type": "code",
   "execution_count": 9,
   "metadata": {},
   "outputs": [],
   "source": [
    "model = IntermodalTripletNet(image_embedding_net, text_embedding_net)\n",
    "\n",
    "if cuda:\n",
    "    model.cuda()"
   ]
  },
  {
   "cell_type": "code",
   "execution_count": 10,
   "metadata": {},
   "outputs": [],
   "source": [
    "loss_fn = InterTripletLoss(margin)\n",
    "optimizer = optim.Adam(model.parameters(), lr=lr)\n",
    "scheduler = optim.lr_scheduler.StepLR(optimizer, 8, gamma=0.1, last_epoch=-1)\n",
    "log_interval = 100"
   ]
  },
  {
   "cell_type": "code",
   "execution_count": null,
   "metadata": {},
   "outputs": [
    {
     "name": "stdout",
     "output_type": "stream",
     "text": [
      "Train: [0/161789 (0%)]\tLoss: 10.002812\n",
      "Train: [12800/161789 (10%)]\tLoss: 9.229638\n",
      "Train: [64000/161789 (49%)]\tLoss: 7.303259\n",
      "Train: [76800/161789 (59%)]\tLoss: 7.216612\n",
      "Train: [89600/161789 (69%)]\tLoss: 7.166894\n",
      "Train: [102400/161789 (79%)]\tLoss: 7.003130\n",
      "Train: [115200/161789 (89%)]\tLoss: 6.907335\n",
      "Train: [128000/161789 (99%)]\tLoss: 6.870431\n",
      "Epoch: 1/15. Train set: Average loss: 7.5695\n",
      "Epoch: 1/15. Validation set: Average loss: 6.6814\n",
      "Train: [0/161789 (0%)]\tLoss: 6.853210\n",
      "Train: [12800/161789 (10%)]\tLoss: 6.613863\n",
      "Train: [25600/161789 (20%)]\tLoss: 6.539556\n",
      "Train: [38400/161789 (30%)]\tLoss: 6.401908\n",
      "Train: [51200/161789 (40%)]\tLoss: 6.273113\n",
      "Train: [64000/161789 (49%)]\tLoss: 6.229643\n",
      "Train: [76800/161789 (59%)]\tLoss: 6.102559\n",
      "Train: [89600/161789 (69%)]\tLoss: 6.023208\n"
     ]
    }
   ],
   "source": [
    "fit(i_triplet_train_loader, \n",
    "    i_triplet_val_loader, \n",
    "    dataset.intermodal_triplet_batch_sampler, \n",
    "    model, \n",
    "    loss_fn, \n",
    "    optimizer, \n",
    "    scheduler, \n",
    "    n_epochs, \n",
    "    cuda, \n",
    "    log_interval)"
   ]
  },
  {
   "cell_type": "code",
   "execution_count": null,
   "metadata": {},
   "outputs": [],
   "source": [
    "print(\"Done!\")"
   ]
  },
  {
   "cell_type": "code",
   "execution_count": null,
   "metadata": {},
   "outputs": [],
   "source": [
    "pickle.dump(model, open('pickles/models/entire_nuswide_model_15.p', 'wb'))"
   ]
  },
  {
   "cell_type": "code",
   "execution_count": null,
   "metadata": {},
   "outputs": [],
   "source": []
  }
 ],
 "metadata": {
  "kernelspec": {
   "display_name": "Python [conda env:pytorch_p36]",
   "language": "python",
   "name": "conda-env-pytorch_p36-py"
  },
  "language_info": {
   "codemirror_mode": {
    "name": "ipython",
    "version": 3
   },
   "file_extension": ".py",
   "mimetype": "text/x-python",
   "name": "python",
   "nbconvert_exporter": "python",
   "pygments_lexer": "ipython3",
   "version": "3.6.6"
  }
 },
 "nbformat": 4,
 "nbformat_minor": 2
}
